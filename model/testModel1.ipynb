{
 "cells": [
  {
   "cell_type": "code",
   "execution_count": 36,
   "id": "ec8aed00-8c80-4d09-be6f-9695add4f022",
   "metadata": {},
   "outputs": [
    {
     "name": "stdout",
     "output_type": "stream",
     "text": [
      "I am King Of the World\n"
     ]
    }
   ],
   "source": [
    "# Storing the file inot a variable \n",
    "# For CREATING / OPENING --> a/w\n",
    "f = open(\"./Data/test.txt\",\"w\")\n",
    "f.write(\"I am King Of the World\")\n",
    "f.close()\n",
    "\n",
    "# READING A FILE\n",
    "file = open(\"Data/test.txt\",\"r\",encoding=\"utf-8\").read()\n",
    "print(file)"
   ]
  },
  {
   "cell_type": "code",
   "execution_count": 79,
   "id": "a5c9182d-42ce-4cf7-918f-41a2d21d9d7d",
   "metadata": {},
   "outputs": [
    {
     "name": "stdout",
     "output_type": "stream",
     "text": [
      "MY name Is @@BadSHA!!~. My Phone Number is 874848648\n",
      "my name is @@badsha!!~. my phone number is 874848648\n"
     ]
    }
   ],
   "source": [
    "# CREATE A FILE \n",
    "newFile = open(\"./Data/test2.txt\", \"w\")\n",
    "newFile.write(\"MY name Is @@BadSHA!!~. My Phone Number is 874848648\")\n",
    "newFile.close()\n",
    "\n",
    "# READ THE FILE\n",
    "newFile = open(\"./Data/test2.txt\",\"r\",encoding='utf-8').read()\n",
    "print(newFile)\n",
    "\n",
    "# CONSISTENT\n",
    "newFile = newFile.lower()\n",
    "print(newFile)"
   ]
  },
  {
   "cell_type": "code",
   "execution_count": 80,
   "id": "2b40f18e-48f8-4104-a63a-f853268577af",
   "metadata": {},
   "outputs": [
    {
     "name": "stdout",
     "output_type": "stream",
     "text": [
      "my name is badsha my phone number is 874848648\n"
     ]
    }
   ],
   "source": [
    "# METHOD - Translate for converting string \n",
    "import string\n",
    "\n",
    "# Transalate accept key and value \n",
    "# DIC = {key: value}\n",
    "# makeTrans -> replace and delete \n",
    "cleanFile = newFile.translate(str.maketrans('','',string.punctuation))\n",
    "print(cleanFile)"
   ]
  },
  {
   "cell_type": "code",
   "execution_count": 81,
   "id": "21afa30c-2821-4e63-bc55-4b4ea01f0f81",
   "metadata": {},
   "outputs": [
    {
     "name": "stdout",
     "output_type": "stream",
     "text": [
      "['my', 'name', 'is', 'badsha', 'my', 'phone', 'number', 'is', '874848648']\n"
     ]
    }
   ],
   "source": [
    "# NLP - Tokenization \n",
    "tokens = cleanFile.split()\n",
    "print(tokens)"
   ]
  },
  {
   "cell_type": "code",
   "execution_count": null,
   "id": "76fac16f-970d-4740-a267-4d6663892b13",
   "metadata": {},
   "outputs": [],
   "source": [
    "# NLP - stop_words\n"
   ]
  }
 ],
 "metadata": {
  "kernelspec": {
   "display_name": "Python 3 (ipykernel)",
   "language": "python",
   "name": "python3"
  },
  "language_info": {
   "codemirror_mode": {
    "name": "ipython",
    "version": 3
   },
   "file_extension": ".py",
   "mimetype": "text/x-python",
   "name": "python",
   "nbconvert_exporter": "python",
   "pygments_lexer": "ipython3",
   "version": "3.12.4"
  }
 },
 "nbformat": 4,
 "nbformat_minor": 5
}
